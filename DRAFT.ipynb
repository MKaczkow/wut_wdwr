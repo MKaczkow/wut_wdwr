{
 "cells": [
  {
   "cell_type": "code",
   "execution_count": null,
   "metadata": {},
   "outputs": [],
   "source": [
    "from amplpy import AMPL, add_to_path\n",
    "add_to_path(r'D:\\MojeDokumenty\\Studia\\mgr_1_sem\\WDWR\\projekt\\AMPL\\ampl_mswin64\\ampl_mswin64')\n",
    "ampl = AMPL()\n",
    "ampl.eval(\"option version;\")"
   ]
  },
  {
   "cell_type": "code",
   "execution_count": null,
   "metadata": {},
   "outputs": [],
   "source": [
    "ampl.read(r'D:\\__repos\\wut_wdwr\\src\\projekt.mod')\n",
    "ampl.read_data(r'D:\\__repos\\wut_wdwr\\src\\production.dat')"
   ]
  },
  {
   "cell_type": "code",
   "execution_count": null,
   "metadata": {},
   "outputs": [],
   "source": [
    "ampl.option['solver'] = 'cplex'\n",
    "ampl.solve()"
   ]
  },
  {
   "cell_type": "code",
   "execution_count": 2,
   "metadata": {},
   "outputs": [],
   "source": [
    "from src.t_student_distribution import calculate_expected_value, calculate_average_deviation"
   ]
  },
  {
   "cell_type": "code",
   "execution_count": 4,
   "metadata": {},
   "outputs": [],
   "source": [
    "means = [9, 8, 7, 6]\n",
    "stds = [\n",
    "    [16, -2, -1, -3],\n",
    "    [-2, 9,  -4, -1],\n",
    "    [-1, -4,  4,  1],\n",
    "    [-3, -1,  1,  1]\n",
    "]"
   ]
  },
  {
   "cell_type": "code",
   "execution_count": 6,
   "metadata": {},
   "outputs": [
    {
     "name": "stdout",
     "output_type": "stream",
     "text": [
      "5.0\n"
     ]
    }
   ],
   "source": [
    "P1_risk = calculate_average_deviation(means, stds[0])\n",
    "print(P1_risk)"
   ]
  },
  {
   "cell_type": "code",
   "execution_count": 7,
   "metadata": {},
   "outputs": [
    {
     "name": "stdout",
     "output_type": "stream",
     "text": [
      "7.0\n"
     ]
    }
   ],
   "source": [
    "P2_risk = calculate_average_deviation(means, stds[1])\n",
    "print(P2_risk)"
   ]
  },
  {
   "cell_type": "code",
   "execution_count": 8,
   "metadata": {},
   "outputs": [
    {
     "name": "stdout",
     "output_type": "stream",
     "text": [
      "7.5\n"
     ]
    }
   ],
   "source": [
    "P3_risk = calculate_average_deviation(means, stds[2])\n",
    "print(P3_risk)"
   ]
  },
  {
   "cell_type": "code",
   "execution_count": 9,
   "metadata": {},
   "outputs": [
    {
     "name": "stdout",
     "output_type": "stream",
     "text": [
      "8.0\n"
     ]
    }
   ],
   "source": [
    "P4_risk = calculate_average_deviation(means, stds[3])\n",
    "print(P4_risk)"
   ]
  },
  {
   "cell_type": "code",
   "execution_count": null,
   "metadata": {},
   "outputs": [],
   "source": []
  }
 ],
 "metadata": {
  "kernelspec": {
   "display_name": "venv",
   "language": "python",
   "name": "python3"
  },
  "language_info": {
   "codemirror_mode": {
    "name": "ipython",
    "version": 3
   },
   "file_extension": ".py",
   "mimetype": "text/x-python",
   "name": "python",
   "nbconvert_exporter": "python",
   "pygments_lexer": "ipython3",
   "version": "3.10.3"
  },
  "orig_nbformat": 4
 },
 "nbformat": 4,
 "nbformat_minor": 2
}
