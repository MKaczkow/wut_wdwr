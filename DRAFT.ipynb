{
 "cells": [
  {
   "cell_type": "code",
   "execution_count": 4,
   "metadata": {},
   "outputs": [],
   "source": [
    "from scipy.stats import t\n"
   ]
  },
  {
   "cell_type": "code",
   "execution_count": 7,
   "metadata": {},
   "outputs": [
    {
     "name": "stdout",
     "output_type": "stream",
     "text": [
      "0.0 2.0 0.0 inf\n"
     ]
    }
   ],
   "source": [
    "df = 4\n",
    "mean, var, skew, kurt = t.stats(df, moments='mvsk')\n",
    "print(mean, var, skew, kurt)"
   ]
  },
  {
   "cell_type": "code",
   "execution_count": 9,
   "metadata": {},
   "outputs": [
    {
     "data": {
      "text/plain": [
       "0.37500000000000006"
      ]
     },
     "execution_count": 9,
     "metadata": {},
     "output_type": "execute_result"
    }
   ],
   "source": [
    "t.pdf(0, df)"
   ]
  },
  {
   "cell_type": "code",
   "execution_count": 10,
   "metadata": {},
   "outputs": [
    {
     "data": {
      "text/plain": [
       "1.4142135623730951"
      ]
     },
     "execution_count": 10,
     "metadata": {},
     "output_type": "execute_result"
    }
   ],
   "source": [
    "t.std(df)"
   ]
  },
  {
   "cell_type": "code",
   "execution_count": 12,
   "metadata": {},
   "outputs": [
    {
     "data": {
      "text/plain": [
       "0.0"
      ]
     },
     "execution_count": 12,
     "metadata": {},
     "output_type": "execute_result"
    }
   ],
   "source": [
    "t.expect(lambda x: x, args=(df,))"
   ]
  },
  {
   "cell_type": "code",
   "execution_count": 23,
   "metadata": {},
   "outputs": [
    {
     "name": "stdout",
     "output_type": "stream",
     "text": [
      "11.31370849898476\n",
      "9.0\n"
     ]
    }
   ],
   "source": [
    "mean = 9  # Given mean value\n",
    "standard_deviation = 16\n",
    "degrees_of_freedom = 4\n",
    "\n",
    "# Calculate the scale parameter (standard deviation of the distribution)\n",
    "scale = standard_deviation / ((degrees_of_freedom / (degrees_of_freedom - 2)) ** 0.5)\n",
    "print(scale)\n",
    "\n",
    "# Create a t-Student distribution object\n",
    "t_dist = t(degrees_of_freedom, loc=mean, scale=scale)\n",
    "\n",
    "# Calculate the expected value (mean) of the t-Student distribution\n",
    "expected_value = t_dist.mean()\n",
    "\n",
    "print(expected_value)\n"
   ]
  },
  {
   "cell_type": "code",
   "execution_count": 22,
   "metadata": {},
   "outputs": [
    {
     "name": "stdout",
     "output_type": "stream",
     "text": [
      "6.363961030678928\n",
      "8.0\n"
     ]
    }
   ],
   "source": [
    "mean = 8  # Given mean value\n",
    "standard_deviation = 9\n",
    "degrees_of_freedom = 4\n",
    "\n",
    "# Calculate the scale parameter (standard deviation of the distribution)\n",
    "scale = standard_deviation / ((degrees_of_freedom / (degrees_of_freedom - 2)) ** 0.5)\n",
    "print(scale)\n",
    "\n",
    "# Create a t-Student distribution object\n",
    "t_dist = t(degrees_of_freedom, loc=mean, scale=scale)\n",
    "\n",
    "# Calculate the expected value (mean) of the t-Student distribution\n",
    "expected_value = t_dist.mean()\n",
    "\n",
    "print(expected_value)"
   ]
  },
  {
   "cell_type": "code",
   "execution_count": 21,
   "metadata": {},
   "outputs": [
    {
     "name": "stdout",
     "output_type": "stream",
     "text": [
      "2.82842712474619\n",
      "7.0\n"
     ]
    }
   ],
   "source": [
    "mean = 7  # Given mean value\n",
    "standard_deviation = 4\n",
    "degrees_of_freedom = 4\n",
    "\n",
    "# Calculate the scale parameter (standard deviation of the distribution)\n",
    "scale = standard_deviation / ((degrees_of_freedom / (degrees_of_freedom - 2)) ** 0.5)\n",
    "print(scale)\n",
    "\n",
    "# Create a t-Student distribution object\n",
    "t_dist = t(degrees_of_freedom, loc=mean, scale=scale)\n",
    "\n",
    "# Calculate the expected value (mean) of the t-Student distribution\n",
    "expected_value = t_dist.mean()\n",
    "\n",
    "print(expected_value)\n"
   ]
  },
  {
   "cell_type": "code",
   "execution_count": 24,
   "metadata": {},
   "outputs": [
    {
     "name": "stdout",
     "output_type": "stream",
     "text": [
      "0.7071067811865475\n",
      "6.0\n"
     ]
    }
   ],
   "source": [
    "mean = 6  # Given mean value\n",
    "standard_deviation = 1\n",
    "degrees_of_freedom = 4\n",
    "\n",
    "# Calculate the scale parameter (standard deviation of the distribution)\n",
    "scale = standard_deviation / ((degrees_of_freedom / (degrees_of_freedom - 2)) ** 0.5)\n",
    "print(scale)\n",
    "\n",
    "# Create a t-Student distribution object\n",
    "t_dist = t(degrees_of_freedom, loc=mean, scale=scale)\n",
    "\n",
    "# Calculate the expected value (mean) of the t-Student distribution\n",
    "expected_value = t_dist.mean()\n",
    "\n",
    "print(expected_value)\n"
   ]
  },
  {
   "cell_type": "code",
   "execution_count": 26,
   "metadata": {},
   "outputs": [],
   "source": [
    "from math import gamma"
   ]
  },
  {
   "cell_type": "code",
   "execution_count": 38,
   "metadata": {},
   "outputs": [
    {
     "name": "stdout",
     "output_type": "stream",
     "text": [
      "gamma_factor\t 0.886226925452758\n",
      "ab_factor\t -0.013168697619903705\n",
      "dof_factor\t 16.0\n",
      "cdf_factor\t 1.1311396003681757\n",
      "up\t\t -0.186727270462469\n",
      "denominator\t 2.0048927405842996\n",
      "EX\t\t 8.6274568376001\n"
     ]
    }
   ],
   "source": [
    "mean = 9\n",
    "standard_deviation = 4\n",
    "dof = 4\n",
    "alpha = 5\n",
    "beta = 12\n",
    "\n",
    "a = (alpha - mean) / standard_deviation\n",
    "b = (beta - mean) / standard_deviation\n",
    "\n",
    "gamma_factor = gamma((dof - 1)/2)\n",
    "ab_factor = ((dof + (a**2))**(-(dof - 1)/2) - (dof + (b**2))**(-(dof - 1)/2))\n",
    "dof_factor = dof ** (dof / 2)\n",
    "cdf_factor = 2*(t.cdf(b, dof) - t.cdf(a, dof))\n",
    "\n",
    "E_P1 = mean + standard_deviation * (\\\n",
    "    (gamma_factor * ab_factor * dof_factor)\\\n",
    "    /(cdf_factor * gamma(dof/2) * gamma(1/2))\n",
    "    )\n",
    "\n",
    "print('gamma_factor\\t', gamma_factor) \n",
    "print('ab_factor\\t', ab_factor) \n",
    "print('dof_factor\\t', dof_factor) \n",
    "print('cdf_factor\\t', cdf_factor) \n",
    "print('up\\t\\t', gamma_factor * ab_factor * dof_factor) \n",
    "print('denominator\\t', cdf_factor * gamma(dof/2) * gamma(1/2)) \n",
    "print('EX\\t\\t', E_P1) \n"
   ]
  },
  {
   "cell_type": "code",
   "execution_count": 44,
   "metadata": {},
   "outputs": [],
   "source": [
    "from src.t_student_distribution import calculate_expected_value"
   ]
  },
  {
   "cell_type": "code",
   "execution_count": 46,
   "metadata": {},
   "outputs": [
    {
     "name": "stdout",
     "output_type": "stream",
     "text": [
      "8.6274568376001\n"
     ]
    }
   ],
   "source": [
    "mean = 9\n",
    "standard_deviation = 4\n",
    "dof = 4\n",
    "alpha = 5\n",
    "beta = 12\n",
    "\n",
    "expected_value = calculate_expected_value(mean, standard_deviation, dof, alpha, beta)\n",
    "print(expected_value)"
   ]
  },
  {
   "cell_type": "code",
   "execution_count": 47,
   "metadata": {},
   "outputs": [
    {
     "name": "stdout",
     "output_type": "stream",
     "text": [
      "8.304864144322744\n"
     ]
    }
   ],
   "source": [
    "mean = 8\n",
    "standard_deviation = 3\n",
    "dof = 4\n",
    "alpha = 5\n",
    "beta = 12\n",
    "\n",
    "expected_value = calculate_expected_value(mean, standard_deviation, dof, alpha, beta)\n",
    "print(expected_value)"
   ]
  },
  {
   "cell_type": "code",
   "execution_count": 48,
   "metadata": {},
   "outputs": [
    {
     "name": "stdout",
     "output_type": "stream",
     "text": [
      "7.605077266035032\n"
     ]
    }
   ],
   "source": [
    "mean = 7\n",
    "standard_deviation = 2\n",
    "dof = 4\n",
    "alpha = 5\n",
    "beta = 12\n",
    "\n",
    "expected_value = calculate_expected_value(mean, standard_deviation, dof, alpha, beta)\n",
    "print(expected_value)"
   ]
  },
  {
   "cell_type": "code",
   "execution_count": 50,
   "metadata": {},
   "outputs": [
    {
     "name": "stdout",
     "output_type": "stream",
     "text": [
      "7.903645565457385\n"
     ]
    }
   ],
   "source": [
    "mean = 6\n",
    "standard_deviation = 4\n",
    "dof = 4\n",
    "alpha = 5\n",
    "beta = 12\n",
    "\n",
    "expected_value = calculate_expected_value(mean, standard_deviation, dof, alpha, beta)\n",
    "print(expected_value)"
   ]
  },
  {
   "cell_type": "code",
   "execution_count": null,
   "metadata": {},
   "outputs": [],
   "source": []
  }
 ],
 "metadata": {
  "kernelspec": {
   "display_name": "venv",
   "language": "python",
   "name": "python3"
  },
  "language_info": {
   "codemirror_mode": {
    "name": "ipython",
    "version": 3
   },
   "file_extension": ".py",
   "mimetype": "text/x-python",
   "name": "python",
   "nbconvert_exporter": "python",
   "pygments_lexer": "ipython3",
   "version": "3.10.3"
  },
  "orig_nbformat": 4
 },
 "nbformat": 4,
 "nbformat_minor": 2
}
